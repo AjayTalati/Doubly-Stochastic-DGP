{
 "cells": [
  {
   "cell_type": "code",
   "execution_count": 4,
   "metadata": {
    "collapsed": false
   },
   "outputs": [
    {
     "name": "stdout",
     "output_type": "stream",
     "text": [
      "(10, 1)\n",
      "(10, 1)\n",
      "(2, 1)\n",
      "model.kern.\u001b[1mvariance\u001b[0m transform:+ve prior:None\n",
      "[ 1.]\n",
      "model.kern.\u001b[1mlengthscales\u001b[0m transform:+ve prior:None\n",
      "[ 1.]\n",
      "model.likelihood.\u001b[1mvariance\u001b[0m transform:+ve prior:None\n",
      "[ 1.]\n",
      "\n",
      "model.\u001b[1mZ\u001b[0m transform:(none) prior:None\n",
      "[[  0.        ]\n",
      " [  1.11111111]\n",
      " [  2.22222222]\n",
      " [  3.33333333]\n",
      " [  4.44444444]\n",
      " [  5.55555556]\n",
      " [  6.66666667]\n",
      " [  7.77777778]\n",
      " [  8.88888889]\n",
      " [ 10.        ]]\n",
      "[-14.97296593]\n",
      "[-14.97296593]\n",
      "[-14.97296593]\n",
      "[-14.97296593]\n",
      "[-14.97296593]\n"
     ]
    }
   ],
   "source": [
    "import sys\n",
    "sys.path.append('../src')\n",
    "sys.path.append('../../DNSGP/GPflow/')\n",
    "\n",
    "import numpy as np\n",
    "import tensorflow as tf\n",
    "\n",
    "from GPflow.likelihoods import MultiClass, Gaussian\n",
    "from GPflow.kernels import RBF, White, Linear, Matern32, Matern52\n",
    "from GPflow.svgp import SVGP\n",
    "from GPflow.sgpr import SGPR\n",
    "\n",
    "X = np.linspace(0, 10, 10)[:, None]\n",
    "# Y = np.array([0, 0, 0, 1, 1, 1, 2, 2, 2, 0], dtype=int)\n",
    "Y = np.array([0, 0, 0, 1, 1, 1, 2, 2, 2, 0], dtype=float)[:, None]\n",
    "Xs = np.array([1.5, 2.5], dtype=float)[:, None]\n",
    "\n",
    "print X.shape\n",
    "print Y.shape\n",
    "print Xs.shape\n",
    "\n",
    "# model = SVGP(X, Y, RBF(1), MultiClass(3), X.copy(), num_latent=3)\n",
    "# model = SVGP(X, Y, RaBF(1), Gaussian(), X.copy(), num_latent=1)\n",
    "model = SGPR(X, Y, RBF(1), X.copy())\n",
    "print model\n",
    "\n",
    "print model.compute_log_likelihood()\n",
    "print model.compute_log_likelihood()\n",
    "print model.compute_log_likelihood()\n",
    "print model.compute_log_likelihood()\n",
    "print model.compute_log_likelihood()\n",
    "# print model.predict_f(Xs)\n",
    "\n",
    "\n",
    "# def cb(x):\n",
    "#     pass\n",
    "# #     model.set_state(x)\n",
    "# #     print model.compute_log_likelihood()\n",
    "# # a = model.optimize(tf.train.AdamOptimizer(), maxiter=500, callback=cb)\n",
    "\n",
    "\n",
    "# a = model.optimize(maxiter=500, callback=None)\n",
    "# print model.predict_f(Xs)\n",
    "\n",
    "# print model.predict_f(Xs)\n",
    "\n",
    "\n",
    "# print model.kern"
   ]
  },
  {
   "cell_type": "code",
   "execution_count": null,
   "metadata": {
    "collapsed": false
   },
   "outputs": [],
   "source": []
  },
  {
   "cell_type": "code",
   "execution_count": null,
   "metadata": {
    "collapsed": false
   },
   "outputs": [],
   "source": []
  },
  {
   "cell_type": "code",
   "execution_count": null,
   "metadata": {
    "collapsed": false
   },
   "outputs": [],
   "source": []
  },
  {
   "cell_type": "code",
   "execution_count": 11,
   "metadata": {
    "collapsed": false
   },
   "outputs": [
    {
     "name": "stdout",
     "output_type": "stream",
     "text": [
      "model.likelihood.\u001b[1mvariance\u001b[0m transform:+ve prior:None\n",
      "[ 1.]\n",
      "model.kern.\u001b[1mvariance\u001b[0m transform:+ve prior:None\n",
      "[ 1.]\n",
      "model.kern.\u001b[1mlengthscales\u001b[0m transform:+ve prior:None\n",
      "[ 1.]\n",
      "model.\u001b[1mZ\u001b[0m transform:(none) prior:None\n",
      "[[ 0.        ]\n",
      " [ 0.11111111]\n",
      " [ 0.22222222]\n",
      " [ 0.33333333]\n",
      " [ 0.44444444]\n",
      " [ 0.55555556]\n",
      " [ 0.66666667]\n",
      " [ 0.77777778]\n",
      " [ 0.88888889]\n",
      " [ 1.        ]]\n",
      "\n",
      "[-10.67289007]\n",
      "[-10.67289007]\n",
      "[-10.67289007]\n",
      "[-10.67289007]\n",
      "[-10.67289007]\n",
      "[-10.67289007]\n",
      "[-10.67289007]\n",
      "[-10.67289007]\n",
      "[-10.67289007]\n",
      "[-10.67289007]\n"
     ]
    }
   ],
   "source": [
    "import sys\n",
    "sys.path.append('../src')\n",
    "sys.path.append('../../DNSGP/GPflow/')\n",
    "\n",
    "import numpy as np\n",
    "import tensorflow as tf\n",
    "\n",
    "from GPflow.likelihoods import Gaussian\n",
    "from GPflow.kernels import RBF\n",
    "from GPflow.sgpr import SGPR\n",
    "\n",
    "X = np.linspace(0, 1, 10)[:, None]\n",
    "Y = np.zeros((10, 1))\n",
    "\n",
    "model = SGPR(X, Y, RBF(1), X.copy())\n",
    "print model\n",
    "\n",
    "for _ in range(10):\n",
    "    print model.compute_log_likelihood()\n",
    "# print model.predict_f(Xs)\n",
    "\n",
    "\n",
    "# def cb(x):\n",
    "#     pass\n",
    "# #     model.set_state(x)\n",
    "# #     print model.compute_log_likelihood()\n",
    "# # a = model.optimize(tf.train.AdamOptimizer(), maxiter=500, callback=cb)\n",
    "\n",
    "\n",
    "# a = model.optimize(maxiter=500, callback=None)\n",
    "# print model.predict_f(Xs)\n",
    "\n",
    "# print model.predict_f(Xs)\n",
    "\n",
    "\n",
    "# print model.kern"
   ]
  },
  {
   "cell_type": "code",
   "execution_count": null,
   "metadata": {
    "collapsed": false
   },
   "outputs": [],
   "source": []
  },
  {
   "cell_type": "code",
   "execution_count": null,
   "metadata": {
    "collapsed": false
   },
   "outputs": [],
   "source": []
  },
  {
   "cell_type": "code",
   "execution_count": null,
   "metadata": {
    "collapsed": true
   },
   "outputs": [],
   "source": []
  },
  {
   "cell_type": "code",
   "execution_count": null,
   "metadata": {
    "collapsed": true
   },
   "outputs": [],
   "source": []
  },
  {
   "cell_type": "code",
   "execution_count": 23,
   "metadata": {
    "collapsed": false
   },
   "outputs": [
    {
     "name": "stdout",
     "output_type": "stream",
     "text": [
      "[-2.75810727]\n",
      "[-2.75810727]\n",
      "[-2.75810727]\n",
      "[-2.75810727]\n",
      "[-2.75810727]\n",
      "[-2.75810727]\n",
      "[-2.75810727]\n",
      "[-2.75810727]\n",
      "[-2.75810727]\n",
      "[-2.75810727]\n"
     ]
    }
   ],
   "source": [
    "\n",
    "import numpy as np\n",
    "from GPflow.likelihoods import Gaussian\n",
    "from GPflow.kernels import RBF\n",
    "from GPflow.sgpr import SGPR\n",
    "\n",
    "X = np.array(((0., 1.))).reshape([2, 1])\n",
    "\n",
    "model = SGPR(X, X.copy(), RBF(1), X.copy())\n",
    "for _ in range(10):\n",
    "    print model.compute_log_likelihood()\n",
    "\n"
   ]
  },
  {
   "cell_type": "code",
   "execution_count": null,
   "metadata": {
    "collapsed": true
   },
   "outputs": [],
   "source": []
  },
  {
   "cell_type": "code",
   "execution_count": null,
   "metadata": {
    "collapsed": true
   },
   "outputs": [],
   "source": []
  }
 ],
 "metadata": {
  "kernelspec": {
   "display_name": "Python 2",
   "language": "python",
   "name": "python2"
  }
 },
 "nbformat": 4,
 "nbformat_minor": 0
}
