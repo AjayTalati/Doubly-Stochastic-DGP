{
 "cells": [
  {
   "cell_type": "code",
   "execution_count": 125,
   "metadata": {},
   "outputs": [
    {
     "name": "stdout",
     "output_type": "stream",
     "text": [
      "N: 927, D: 8, Ns: 103\n"
     ]
    }
   ],
   "source": [
    "import sys\n",
    "sys.path.append('../src')\n",
    "\n",
    "import numpy as np\n",
    "import tensorflow as tf\n",
    "import matplotlib.pyplot as plt\n",
    "%matplotlib inline \n",
    "\n",
    "from GPflow.likelihoods import Gaussian\n",
    "from GPflow.kernels import RBF, White\n",
    "from GPflow.mean_functions import Constant\n",
    "from GPflow.sgpr import SGPR, GPRFITC\n",
    "from GPflow.svgp import SVGP\n",
    "from GPflow.gpr import GPR\n",
    "\n",
    "from scipy.cluster.vq import kmeans2\n",
    "\n",
    "from get_data import get_regression_data\n",
    "from dgp import DGP\n",
    "import time\n",
    "\n",
    "X, Y, Xs, Ys = get_regression_data('concrete', split=0)\n",
    "print 'N: {}, D: {}, Ns: {}'.format(X.shape[0], X.shape[1], Xs.shape[0])\n",
    "\n",
    "def make_dgp(X, Y, Z, L):\n",
    "    D = X.shape[1]\n",
    "    Y_mean, Y_std = np.average(Y), np.std(Y) \n",
    "    \n",
    "    # the layer shapes are defined by the kernel dims, so here all hidden layers are D dimensional \n",
    "    kernels = []\n",
    "    for l in range(L):\n",
    "        kernels.append(RBF(D, lengthscales=1., variance=1.))\n",
    "        \n",
    "    # between layer noise (doesn't actually make much difference but we include it anyway)\n",
    "    for kernel in kernels[:-1]:\n",
    "        kernel += White(D, variance=1e-5) \n",
    "        \n",
    "    mb = 10000 if X.shape[0] > 10000 else None \n",
    "    model = DGP(X, Y, Z, kernels, Gaussian(), num_samples=1, minibatch_size=mb)\n",
    "\n",
    "    # same final layer inits we used for the single layer model\n",
    "    model.layers[-1].kern.variance = Y_std**2\n",
    "    model.likelihood.variance = Y_std*0.1 \n",
    "    model.layers[-1].mean_function = Constant(Y_mean)\n",
    "    model.layers[-1].mean_function.fixed = True\n",
    "    \n",
    "    # start the inner layers almost deterministically \n",
    "    for layer in model.layers[:-1]:\n",
    "        layer.q_sqrt = layer.q_sqrt.value * 1e-5\n",
    "    \n",
    "    return model\n",
    "\n",
    "Z_100 = kmeans2(X, 100, minit='points')[0]\n",
    "m_dgp2 = make_dgp(X, Y, Z_100, 2)\n",
    "m_dgp3 = make_dgp(X, Y, Z_100, 3)\n",
    "\n",
    "\n",
    "\n",
    "\n"
   ]
  },
  {
   "cell_type": "code",
   "execution_count": 126,
   "metadata": {},
   "outputs": [
    {
     "data": {
      "text/plain": [
       "     fun: 5928.3638708662947\n",
       "     jac: array([-182.75807159,  239.98005756, -371.53566345, ...,   -3.5766934 ,\n",
       "          2.19323833, -281.83249718])\n",
       " message: 'Finished iterations.'\n",
       "  status: 'Finished iterations.'\n",
       " success: True\n",
       "       x: array([-0.32575271,  3.0821096 ,  0.46172013, ..., -0.66667213,\n",
       "       -0.50068006,  3.40989181])"
      ]
     },
     "execution_count": 126,
     "metadata": {},
     "output_type": "execute_result"
    }
   ],
   "source": [
    "m_dgp3.optimize(tf.train.AdamOptimizer(0.01), maxiter=2000)\n"
   ]
  },
  {
   "cell_type": "code",
   "execution_count": 127,
   "metadata": {},
   "outputs": [],
   "source": [
    "L1, L2, L3 = m_dgp3.predict_all_layers(Xs, 500)"
   ]
  },
  {
   "cell_type": "code",
   "execution_count": 137,
   "metadata": {},
   "outputs": [
    {
     "name": "stdout",
     "output_type": "stream",
     "text": [
      "0.886051232712\n",
      "-0.224225289106\n",
      "70\n"
     ]
    }
   ],
   "source": [
    "res = []\n",
    "d = 7\n",
    "for i in range(len(Xs)):\n",
    "    res.append(np.corrcoef(L1[:, i, d], L3[:, i, 0])[0, 1])\n",
    "ind_max = np.argmax(res)\n",
    "ind_min = np.argmin(res)\n",
    "print max(res)\n",
    "print min(res)\n",
    "print ind\n"
   ]
  },
  {
   "cell_type": "code",
   "execution_count": 138,
   "metadata": {},
   "outputs": [
    {
     "data": {
      "image/png": "[encoded data removed]",
      "text/plain": [
       "<matplotlib.figure.Figure at 0x7fb46c16ddd0>"
      ]
     },
     "metadata": {},
     "output_type": "display_data"
    }
   ],
   "source": [
    "for l1, l3 in zip(L1, L3):\n",
    "    plt.scatter(l1[ind_max, d], l3[ind_max, 0], color='k')\n",
    "plt.show()\n",
    "\n",
    "    "
   ]
  },
  {
   "cell_type": "code",
   "execution_count": null,
   "metadata": {
    "collapsed": true
   },
   "outputs": [],
   "source": []
  },
  {
   "cell_type": "code",
   "execution_count": null,
   "metadata": {
    "collapsed": true
   },
   "outputs": [],
   "source": []
  },
  {
   "cell_type": "code",
   "execution_count": null,
   "metadata": {
    "collapsed": true
   },
   "outputs": [],
   "source": []
  }
 ],
 "metadata": {
  "kernelspec": {
   "display_name": "Python 2",
   "language": "python",
   "name": "python2"
  },
  "language_info": {
   "codemirror_mode": {
    "name": "ipython",
    "version": 2
   },
   "file_extension": ".py",
   "mimetype": "text/x-python",
   "name": "python",
   "nbconvert_exporter": "python",
   "pygments_lexer": "ipython2",
   "version": "2.7.12"
  }
 },
 "nbformat": 4,
 "nbformat_minor": 2
}
