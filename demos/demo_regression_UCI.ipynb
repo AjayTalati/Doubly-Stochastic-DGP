{
 "cells": [
  {
   "cell_type": "markdown",
   "metadata": {},
   "source": [
    "Here we'll show the DGP for regression, using small to medium data sets."
   ]
  },
  {
   "cell_type": "code",
   "execution_count": 62,
   "metadata": {
    "collapsed": true
   },
   "outputs": [],
   "source": [
    "import sys\n",
    "sys.path.append('../src')\n",
    "sys.path.append('../../DNSGP/GPflow')\n",
    "\n",
    "import numpy as np\n",
    "import tensorflow as tf\n",
    "import matplotlib.pyplot as plt\n",
    "%matplotlib inline \n",
    "\n",
    "from GPflow.likelihoods import Gaussian\n",
    "from GPflow.kernels import RBF, White, Linear, Matern32, Matern52\n",
    "from GPflow.mean_functions import Constant\n",
    "from GPflow.sgpr import SGPR\n",
    "from GPflow.gpr import GPR\n",
    "\n",
    "from scipy.cluster.vq import kmeans2\n",
    "\n",
    "from get_data import get_regression_data\n",
    "from dgp import DGP"
   ]
  },
  {
   "cell_type": "markdown",
   "metadata": {},
   "source": [
    "Let's start with the energy data set. "
   ]
  },
  {
   "cell_type": "code",
   "execution_count": 63,
   "metadata": {
    "collapsed": false
   },
   "outputs": [
    {
     "name": "stdout",
     "output_type": "stream",
     "text": [
      "N: 690, D: 8, Ns: 77\n"
     ]
    }
   ],
   "source": [
    "X, Y, Xs, Ys = get_regression_data('energy', 0)\n",
    "Y_mean, Y_std = np.average(Y), np.std(Y)\n",
    "D = X.shape[1]\n",
    "print 'N: {}, D: {}, Ns: {}'.format(X.shape[0], D, Xs.shape[0])"
   ]
  },
  {
   "cell_type": "markdown",
   "metadata": {},
   "source": [
    "This is quite a small dataset, so we can train a full GP for a benchmark. We'll use the RBF kernel and set the initial hyperparameters sensibly. We use a constant mean function as we haven't centered the outputs. \n",
    "\n",
    "Sine we've already whitened the inputs we can use the default lengthscale of 1. A better choice might be to set to the median of the squared distances, but we won't do that here. "
   ]
  },
  {
   "cell_type": "code",
   "execution_count": 72,
   "metadata": {
    "collapsed": false
   },
   "outputs": [],
   "source": [
    "# kernel = White(D, variance=1e-5) + Linear(D)\n",
    "# kernel = RBF(D, variance=Y_std**2) + White(D, variance=1e-5) + Linear(D)\n",
    "kernel = RBF(D, variance = Y_std**2) + White(D)\n",
    "\n",
    "m_gp = GPR(X, Y, kernel, \n",
    "           mean_function=Constant(Y_mean))\n",
    "# m_gp.mean_function.fixed = True\n",
    "m_gp.likelihood.variance = 0.1 * Y_std"
   ]
  },
  {
   "cell_type": "markdown",
   "metadata": {},
   "source": [
    "We can optimize this model with LBFGS and find the log likelihood on the test data"
   ]
  },
  {
   "cell_type": "code",
   "execution_count": 73,
   "metadata": {
    "collapsed": false
   },
   "outputs": [
    {
     "name": "stdout",
     "output_type": "stream",
     "text": [
      "full GP test log likelihood -0.4996\n",
      "name.kern.rbf.\u001b[1mlengthscales\u001b[0m transform:+ve prior:None\n",
      "[ 18.05939605]\n",
      "name.kern.rbf.\u001b[1mvariance\u001b[0m transform:+ve prior:None\n",
      "[  1.18154036e+08]\n",
      "name.kern.white.\u001b[1mvariance\u001b[0m transform:+ve prior:None\n",
      "[  1.00000000e-06]\n",
      "name.likelihood.\u001b[1mvariance\u001b[0m transform:+ve prior:None\n",
      "[ 0.16478242]\n",
      "name.mean_function.\u001b[1mc\u001b[0m transform:(none) prior:None\n",
      "[-3182.96989063]\n"
     ]
    }
   ],
   "source": [
    "m_gp.optimize()\n",
    "l_gp = np.average(m_gp.predict_density(Xs, Ys))\n",
    "print 'full GP test log likelihood {:.4f}'.format(np.average(l_gp))\n",
    "print m_gp"
   ]
  },
  {
   "cell_type": "markdown",
   "metadata": {},
   "source": [
    "Now we'll train a sparse GP with 100 inducing points"
   ]
  },
  {
   "cell_type": "code",
   "execution_count": 37,
   "metadata": {
    "collapsed": true
   },
   "outputs": [],
   "source": [
    "M = 100\n",
    "Z = kmeans2(X, M, minit='points')[0] \n",
    "\n",
    "m_sgp = SGPR(X, Y, RBF(D, variance=Y_std**2) + White(D, variance=1e-5),\n",
    "             Z.copy(),\n",
    "             mean_function=Constant(Y_mean))\n",
    "m_sgp.mean_function.fixed = True\n",
    "m_sgp.likelihood.variance = 0.1 * Y_std\n"
   ]
  },
  {
   "cell_type": "code",
   "execution_count": 38,
   "metadata": {
    "collapsed": false
   },
   "outputs": [
    {
     "name": "stdout",
     "output_type": "stream",
     "text": [
      "sparse GP test log likelihood -1.5538\n",
      "kern.rbf.\u001b[1mvariance\u001b[0m transform:+ve prior:None\n",
      "[ 109.39381]\n",
      "kern.rbf.\u001b[1mlengthscales\u001b[0m transform:+ve prior:None\n",
      "[ 2.18075006]\n",
      "kern.white.\u001b[1mvariance\u001b[0m transform:+ve prior:None\n",
      "[  8.00483533e-06]\n",
      "likelihood.\u001b[1mvariance\u001b[0m transform:+ve prior:None\n",
      "[ 1.47848175]\n"
     ]
    }
   ],
   "source": [
    "m_sgp.optimize()\n",
    "l_sgp = np.average(m_sgp.predict_density(Xs, Ys))\n",
    "print 'sparse GP test log likelihood {:.4f}'.format(np.average(l_sgp))\n",
    "print m_sgp.kern\n",
    "print m_sgp.likelihood"
   ]
  },
  {
   "cell_type": "code",
   "execution_count": null,
   "metadata": {
    "collapsed": true
   },
   "outputs": [],
   "source": []
  },
  {
   "cell_type": "markdown",
   "metadata": {},
   "source": [
    "We'll now construct DGPs of 1, 2 and 3 layers. We'll use the RBF kernel for each layer, with a small noise between each layer "
   ]
  },
  {
   "cell_type": "code",
   "execution_count": 74,
   "metadata": {
    "collapsed": true
   },
   "outputs": [],
   "source": [
    "def make_dgp(L):\n",
    "    kernels = []\n",
    "    for l in range(L):\n",
    "        kernels.append(RBF(D, lengthscales=1., variance=1.))\n",
    "    model = DGP(X, Y, X.copy(), kernels, Gaussian(), num_samples=1)\n",
    "\n",
    "    model.layers[-1].kern.variance = Y_std**2\n",
    "    model.likelihood.variance = Y_std*0.1 \n",
    "    model.layers[-1].mean_function = Constant(Y_mean)\n",
    "    model.layers[-1].mean_function.fixed = True\n",
    "    \n",
    "    # start the inner layers deterministically \n",
    "    for layer in model.layers[:-1]:\n",
    "        layer.q_sqrt = layer.q_sqrt.value * 1e-5\n",
    "    \n",
    "    for layer in model.layers:\n",
    "        layer.Z.fixed = True\n",
    "    return model\n",
    "m_dgp1 = make_dgp(1)\n",
    "m_dgp2 = make_dgp(2)\n",
    "# m_dgp3 = make_dgp(3)"
   ]
  },
  {
   "cell_type": "markdown",
   "metadata": {},
   "source": [
    "We'll train all three models using the Adam optimizer. Note that the 1 layer model is equivalent to m_sgp above\n"
   ]
  },
  {
   "cell_type": "markdown",
   "metadata": {},
   "source": [
    "When stochastically optimizing it's useful to have a callback to see what's going on"
   ]
  },
  {
   "cell_type": "code",
   "execution_count": 75,
   "metadata": {
    "collapsed": true
   },
   "outputs": [],
   "source": [
    "class CB(object):\n",
    "    def __init__(self, model, record_every=10):\n",
    "        self.model = model\n",
    "        self.i = 0\n",
    "        self.res = []\n",
    "        self.record_every = record_every\n",
    "    def cb(self, x):\n",
    "        self.i += 1\n",
    "        if self. i % self.record_every == 0:\n",
    "            self.model.set_state(x)\n",
    "            self.res.append(self.model.compute_log_likelihood())"
   ]
  },
  {
   "cell_type": "code",
   "execution_count": 76,
   "metadata": {
    "collapsed": false
   },
   "outputs": [
    {
     "data": {
      "image/png": "[encoded data removed]",
      "text/plain": [
       "<matplotlib.figure.Figure at 0x114b1aa10>"
      ]
     },
     "metadata": {},
     "output_type": "display_data"
    },
    {
     "name": "stdout",
     "output_type": "stream",
     "text": [
      "Caught KeyboardInterrupt, setting model                  with most recent state.\n"
     ]
    },
    {
     "data": {
      "image/png": "[encoded data removed]",
      "text/plain": [
       "<matplotlib.figure.Figure at 0x1201634d0>"
      ]
     },
     "metadata": {},
     "output_type": "display_data"
    },
    {
     "data": {
      "image/png": "[encoded data removed]",
      "text/plain": [
       "<matplotlib.figure.Figure at 0x11a4ed8d0>"
      ]
     },
     "metadata": {},
     "output_type": "display_data"
    }
   ],
   "source": [
    "for m in [m_dgp1, m_dgp2, m_dgp3]:\n",
    "    cb = CB(m)\n",
    "    m.optimize(tf.train.AdamOptimizer(0.01), \n",
    "               maxiter=500, \n",
    "               callback=cb.cb)\n",
    "    plt.plot(cb.res)\n",
    "    plt.show()    "
   ]
  },
  {
   "cell_type": "markdown",
   "metadata": {},
   "source": [
    "In these models we have to predict stochastically, using a Gaussian mixture. The DGP class has a built-in method to do this"
   ]
  },
  {
   "cell_type": "code",
   "execution_count": 77,
   "metadata": {
    "collapsed": false
   },
   "outputs": [
    {
     "name": "stdout",
     "output_type": "stream",
     "text": [
      "DGP with 1 layers, 1 samples, test loglikelihood -1.6605\n",
      "DGP with 1 layers, 1 samples, test loglikelihood -1.6605\n",
      "DGP with 1 layers, 1 samples, test loglikelihood -1.6605\n",
      "DGP with 1 layers, 10 samples, test loglikelihood -1.6605\n",
      "DGP with 1 layers, 10 samples, test loglikelihood -1.6605\n",
      "DGP with 1 layers, 10 samples, test loglikelihood -1.6605\n",
      "DGP with 1 layers, 100 samples, test loglikelihood -1.6605\n",
      "DGP with 1 layers, 100 samples, test loglikelihood -1.6605\n",
      "DGP with 1 layers, 100 samples, test loglikelihood -1.6605\n",
      "DGP with 2 layers, 1 samples, test loglikelihood -1.4844\n",
      "DGP with 2 layers, 1 samples, test loglikelihood -1.4946\n",
      "DGP with 2 layers, 1 samples, test loglikelihood -1.4134\n",
      "DGP with 2 layers, 10 samples, test loglikelihood -1.4416\n",
      "DGP with 2 layers, 10 samples, test loglikelihood -1.4493\n",
      "DGP with 2 layers, 10 samples, test loglikelihood -1.4414\n",
      "DGP with 2 layers, 100 samples, test loglikelihood -1.4479\n",
      "DGP with 2 layers, 100 samples, test loglikelihood -1.4428\n",
      "DGP with 2 layers, 100 samples, test loglikelihood -1.4457\n",
      "DGP with 3 layers, 1 samples, test loglikelihood -1.3957\n",
      "DGP with 3 layers, 1 samples, test loglikelihood -1.5377\n",
      "DGP with 3 layers, 1 samples, test loglikelihood -1.4243\n",
      "DGP with 3 layers, 10 samples, test loglikelihood -1.3912\n",
      "DGP with 3 layers, 10 samples, test loglikelihood -1.3600\n",
      "DGP with 3 layers, 10 samples, test loglikelihood -1.3898\n",
      "DGP with 3 layers, 100 samples, test loglikelihood -1.3763\n",
      "DGP with 3 layers, 100 samples, test loglikelihood -1.3806\n",
      "DGP with 3 layers, 100 samples, test loglikelihood -1.3729\n"
     ]
    }
   ],
   "source": [
    "s = 'DGP with {} layers, {} samples, test loglikelihood {:.4f}'\n",
    "for m in [m_dgp1, m_dgp2, m_dgp3]:\n",
    "    for S in [1, 10, 100]:\n",
    "        for _ in range(3):\n",
    "            l = m.predict_density(Xs, Ys, S)\n",
    "            print s.format(len(m.layers), S, np.average(l))"
   ]
  },
  {
   "cell_type": "code",
   "execution_count": null,
   "metadata": {
    "collapsed": true
   },
   "outputs": [],
   "source": []
  },
  {
   "cell_type": "code",
   "execution_count": null,
   "metadata": {
    "collapsed": true
   },
   "outputs": [],
   "source": []
  },
  {
   "cell_type": "code",
   "execution_count": null,
   "metadata": {
    "collapsed": true
   },
   "outputs": [],
   "source": [
    "\n",
    "\n",
    "\n",
    "\n",
    "\n",
    "\n",
    "\n",
    "\n",
    "\n",
    "\n",
    "\n",
    "    \n",
    "\n",
    "\n",
    "# for L in [1, 2, 3]:\n",
    "#     model = make_dgp(L)\n",
    "#     cb = CB(model, 100)\n",
    "#     if L == 1:\n",
    "#         model.optimize(maxiter=2000, callback=cb.cb)\n",
    "#     else:    \n",
    "#         model.optimize(tf.train.AdamOptimizer(0.01), maxiter=2000, callback=cb.cb)\n",
    "    \n",
    "#     S = 100\n",
    "#     for _ in range(2):\n",
    "#         m, v = model.predict_y(Xs, S)\n",
    "#         Ys_ = Ys[None, :, :] * np.ones((S, 1, 1))\n",
    "#         logliks = norm.logpdf(Ys_, loc=m, scale=v**0.5)\n",
    "#         a = logsumexp(logliks, axis=0, b=1/float(S))\n",
    "#         #print np.average(a)\n",
    "#         print np.average(logliks)\n",
    "    \n",
    "#     for _ in range(2):\n",
    "#         ll = model.predict_density(Xs, Ys, S)\n",
    "#         print np.average(ll)\n",
    "    \n",
    "#     plt.plot(cb.res)\n",
    "#     plt.show()\n",
    "#\n",
    "#for n in [1, 10, 100]:\n",
    "#    print n\n",
    "#    for _ in range(3):\n",
    "#        test_log_likelihood = model.predict_density(Xs, Ys, n)\n",
    "#        a = logsumexp(test_log_likelihood, axis=0, b=1/float(test_log_likelihood.shape[0]))\n",
    "#        print np.average(a)\n",
    "##        m, v = m_dgp\n",
    "#\n",
    "#\n",
    "#\n",
    "\n",
    "\n",
    "\n",
    "\n",
    "\n",
    "\n"
   ]
  },
  {
   "cell_type": "code",
   "execution_count": null,
   "metadata": {
    "collapsed": true
   },
   "outputs": [],
   "source": []
  },
  {
   "cell_type": "code",
   "execution_count": null,
   "metadata": {
    "collapsed": true
   },
   "outputs": [],
   "source": []
  },
  {
   "cell_type": "code",
   "execution_count": null,
   "metadata": {
    "collapsed": true
   },
   "outputs": [],
   "source": []
  }
 ],
 "metadata": {
  "kernelspec": {
   "display_name": "Python 2",
   "language": "python",
   "name": "python2"
  },
  "language_info": {
   "codemirror_mode": {
    "name": "ipython",
    "version": 2
   },
   "file_extension": ".py",
   "mimetype": "text/x-python",
   "name": "python",
   "nbconvert_exporter": "python",
   "pygments_lexer": "ipython2",
   "version": "2.7.13"
  }
 },
 "nbformat": 4,
 "nbformat_minor": 0
}
